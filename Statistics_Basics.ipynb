{
  "nbformat": 4,
  "nbformat_minor": 0,
  "metadata": {
    "colab": {
      "provenance": []
    },
    "kernelspec": {
      "name": "python3",
      "display_name": "Python 3"
    },
    "language_info": {
      "name": "python"
    }
  },
  "cells": [
    {
      "cell_type": "markdown",
      "source": [
        "# Statistics Basics"
      ],
      "metadata": {
        "id": "Hsc4MjLk4Gf2"
      }
    },
    {
      "cell_type": "markdown",
      "source": [
        "1. What is the difference between descriptive statistics and inferential\n",
        "statistics? Explain with examples.\n",
        "\n",
        "  - Descriptive Statistics\n",
        "\n",
        "    -- Definition: Descriptive statistics is used to summarize, organize, and describe data that has been collected.\n",
        "\n",
        "    -- Purpose: It deals only with the data at hand (sample or population) and does not make predictions or generalizations.\n",
        "\n",
        "    -- Examples:\n",
        "\n",
        "    Calculating the mean, median, mode, or standard deviation of exam scores of a class.\n",
        "\n",
        "    Showing data using charts, graphs, or tables (e.g., a bar chart of sales in January–June).\n",
        "\n",
        "    Example: If we record the heights of 50 students and calculate the average height (say 165 cm), that is descriptive statistics.\n",
        "\n",
        "- Inferential Statistics\n",
        "\n",
        "    -- Definition: Inferential statistics is used to make predictions, generalizations, or decisions about a larger population based on data from a sample.\n",
        "\n",
        "    -- Purpose: It goes beyond the available data to draw conclusions, test hypotheses, or make forecasts.\n",
        "\n",
        "    -- Examples:\n",
        "\n",
        "    Conducting a survey of 500 voters and using the results to predict the election outcome for an entire state.\n",
        "\n",
        "    Using a t-test or chi-square test to check if a new medicine is more effective than the old one.\n",
        "\n",
        "    Example: From a sample of 100 students’ heights, we estimate the average height of all students in a university.\n",
        "\n",
        "2. What is sampling in statistics? Explain the differences between random\n",
        "and stratified sampling.\n",
        "\n",
        "- Sampling in Statistics\n",
        "\n",
        "  Sampling is the process of selecting a subset of individuals (sample) from a larger group (population) to study, in order to make conclusions about the whole population.\n",
        "\n",
        "- Random Sampling\n",
        "\n",
        "  - Every member of the population has an equal chance of being selected.\n",
        "\n",
        "  - Best for homogeneous populations.\n",
        "\n",
        "  - Example: Choosing 200 students randomly from a college list of 5,000.\n",
        "\n",
        "- Stratified Sampling\n",
        "\n",
        "  - The population is divided into subgroups (strata) based on characteristics (e.g., gender, class, department).\n",
        "\n",
        "  - Random samples are taken from each subgroup in proportion to their size.\n",
        "\n",
        "  - Ensures representation of all groups.\n",
        "\n",
        "  - Example: If a college has 60% undergraduates and 40% postgraduates, from 200 students we pick 120 undergraduates and 80 postgraduates.\n",
        "\n",
        "3. Define mean, median, and mode. Explain why these measures of central\n",
        "tendency are important.\n",
        "\n",
        "- Mean, Median, and Mode\n",
        "\n",
        "  - Mean: The arithmetic average of a set of values, found by adding all values and dividing by the number of values.\n",
        "\n",
        "    Example: For 2, 4, 6, mean = (2+4+6)/3 = 4.\n",
        "\n",
        "  - Median: The middle value when the data is arranged in order. If there is an even number of values, the median is the average of the two middle values.\n",
        "\n",
        "    Example: For 2, 4, 6, median = 4. For 2, 4, 6, 8, median = (4+6)/2 = 5.\n",
        "\n",
        "  - Mode: The value that occurs most frequently in a dataset.\n",
        "\n",
        "    Example: For 2, 4, 4, 6, 8, mode = 4.\n",
        "\n",
        "- Importance of Central Tendency\n",
        "\n",
        "  - These measures summarize large data into a single representative value.\n",
        "\n",
        "  - They help in understanding data patterns and comparing different datasets.\n",
        "\n",
        "  - Widely used in fields like economics, business, education, and research for decision-making.\n",
        "\n",
        "4. Explain skewness and kurtosis. What does a positive skew imply about the\n",
        "data?\n",
        "\n",
        "- Skewness\n",
        "\n",
        "  - Skewness measures the asymmetry of a data distribution.\n",
        "\n",
        "  - If data are symmetrical, skewness = 0.\n",
        "\n",
        "  - Positive skew (right-skewed): Tail is longer on the right, meaning most values are low but a few very high values pull the mean to the right.\n",
        "\n",
        "  - Negative skew (left-skewed): Tail is longer on the left, meaning most values are high but a few very low values pull the mean to the left.\n",
        "\n",
        "- Kurtosis\n",
        "\n",
        "  - Kurtosis measures the peakedness or flatness of a data distribution compared to a normal distribution.\n",
        "\n",
        "  - High kurtosis (leptokurtic): Sharper peak, more outliers.\n",
        "\n",
        "  - Low kurtosis (platykurtic): Flatter peak, fewer outliers.\n",
        "\n",
        "  - Normal kurtosis (mesokurtic): Similar to normal distribution.\n",
        "\n",
        "- Positive Skew Implies\n",
        "\n",
        "  - The data has a long right tail.\n",
        "\n",
        "  - The mean > median > mode.\n",
        "\n",
        "  - Indicates the presence of unusually large values.\n",
        "\n"
      ],
      "metadata": {
        "id": "5Zo9NIsX4JOh"
      }
    },
    {
      "cell_type": "code",
      "source": [
        "#5. Implement a Python program to compute the mean, median, and mode of a given list of numbers numbers = [12, 15, 12, 18, 19, 12, 20, 22, 19, 19, 24, 24, 24, 26, 28]\n",
        "from statistics import mean, median, mode\n",
        "\n",
        "# Given list of numbers\n",
        "numbers = [12, 15, 12, 18, 19, 12, 20, 22, 19, 19, 24, 24, 24, 26, 28]\n",
        "\n",
        "# Calculating mean, median, and mode\n",
        "mean_val = mean(numbers)\n",
        "median_val = median(numbers)\n",
        "mode_val = mode(numbers)\n",
        "\n",
        "# Displaying results\n",
        "print(\"Numbers:\", numbers)\n",
        "print(\"Mean:\", mean_val)\n",
        "print(\"Median:\", median_val)\n",
        "print(\"Mode:\", mode_val)\n"
      ],
      "metadata": {
        "colab": {
          "base_uri": "https://localhost:8080/"
        },
        "id": "oPSX5Qq_-MVe",
        "outputId": "0899402d-2dcc-4485-b34d-50a6b38d3a14"
      },
      "execution_count": 1,
      "outputs": [
        {
          "output_type": "stream",
          "name": "stdout",
          "text": [
            "Numbers: [12, 15, 12, 18, 19, 12, 20, 22, 19, 19, 24, 24, 24, 26, 28]\n",
            "Mean: 19.6\n",
            "Median: 19\n",
            "Mode: 12\n"
          ]
        }
      ]
    },
    {
      "cell_type": "code",
      "source": [
        "#6. Compute the covariance and correlation coefficient between the following two datasets provided as lists in Python:\n",
        "# list_x = [10, 20, 30, 40, 50]\n",
        "# list_y = [15, 25, 35, 45, 60]\n",
        "\n",
        "import numpy as np\n",
        "\n",
        "# Given datasets\n",
        "list_x = [10, 20, 30, 40, 50]\n",
        "list_y = [15, 25, 35, 45, 60]\n",
        "\n",
        "# Convert to numpy arrays\n",
        "x = np.array(list_x)\n",
        "y = np.array(list_y)\n",
        "\n",
        "# Compute covariance matrix\n",
        "cov_matrix = np.cov(x, y, bias=True)   # bias=True → population covariance\n",
        "cov_xy = cov_matrix[0, 1]\n",
        "\n",
        "# Compute correlation coefficient\n",
        "corr_xy = np.corrcoef(x, y)[0, 1]\n",
        "\n",
        "# Display results\n",
        "print(\"List X:\", list_x)\n",
        "print(\"List Y:\", list_y)\n",
        "print(\"Covariance:\", cov_xy)\n",
        "print(\"Correlation Coefficient:\", corr_xy)\n",
        "\n"
      ],
      "metadata": {
        "colab": {
          "base_uri": "https://localhost:8080/"
        },
        "id": "BQMmhScV-o7u",
        "outputId": "63f79756-aef1-47f7-e88f-6840ee933648"
      },
      "execution_count": 2,
      "outputs": [
        {
          "output_type": "stream",
          "name": "stdout",
          "text": [
            "List X: [10, 20, 30, 40, 50]\n",
            "List Y: [15, 25, 35, 45, 60]\n",
            "Covariance: 220.0\n",
            "Correlation Coefficient: 0.995893206467704\n"
          ]
        }
      ]
    },
    {
      "cell_type": "code",
      "source": [
        "#7. Write a Python script to draw a boxplot for the following numeric list and\n",
        "# identify its outliers. Explain the result:\n",
        "# data = [12, 14, 14, 15, 18, 19, 19, 21, 22, 22, 23, 23, 24, 26, 29, 35]\n",
        "\n",
        "import matplotlib.pyplot as plt\n",
        "import numpy as np\n",
        "\n",
        "# Given data\n",
        "data = [12, 14, 14, 15, 18, 19, 19, 21, 22, 22, 23, 23, 24, 26, 29, 35]\n",
        "\n",
        "# ---- Boxplot ----\n",
        "plt.boxplot(data, vert=False)\n",
        "plt.title(\"Boxplot of Data with Outliers\")\n",
        "plt.xlabel(\"Values\")\n",
        "plt.show()\n",
        "\n",
        "# ---- Outlier Detection ----\n",
        "Q1 = np.percentile(data, 25)   # 1st Quartile\n",
        "Q3 = np.percentile(data, 75)   # 3rd Quartile\n",
        "IQR = Q3 - Q1                  # Interquartile Range\n",
        "\n",
        "lower_bound = Q1 - 1.5 * IQR\n",
        "upper_bound = Q3 + 1.5 * IQR\n",
        "\n",
        "outliers = [x for x in data if x < lower_bound or x > upper_bound]\n",
        "\n",
        "# ---- Output ----\n",
        "print(\"Q1 =\", Q1)\n",
        "print(\"Q3 =\", Q3)\n",
        "print(\"IQR =\", IQR)\n",
        "print(\"Lower Bound =\", lower_bound)\n",
        "print(\"Upper Bound =\", upper_bound)\n",
        "print(\"Outliers:\", outliers)\n"
      ],
      "metadata": {
        "colab": {
          "base_uri": "https://localhost:8080/",
          "height": 576
        },
        "id": "k4S0uKW4_Gtn",
        "outputId": "b8d998e9-8e20-4bdb-ebdd-a110fd24ee94"
      },
      "execution_count": 3,
      "outputs": [
        {
          "output_type": "display_data",
          "data": {
            "text/plain": [
              "<Figure size 640x480 with 1 Axes>"
            ],
            "image/png": "[encoded data removed]"
          },
          "metadata": {}
        },
        {
          "output_type": "stream",
          "name": "stdout",
          "text": [
            "Q1 = 17.25\n",
            "Q3 = 23.25\n",
            "IQR = 6.0\n",
            "Lower Bound = 8.25\n",
            "Upper Bound = 32.25\n",
            "Outliers: [35]\n"
          ]
        }
      ]
    },
    {
      "cell_type": "code",
      "source": [
        "#8. You are working as a data analyst in an e-commerce company. The marketing team wants to know if there is a relationship between advertising spend and daily sales.\n",
        "# ● Explain how you would use covariance and correlation to explore this relationship.\n",
        "# ● Write Python code to compute the correlation between the two lists:\n",
        "# advertising_spend = [200, 250, 300, 400, 500]\n",
        "# daily_sales = [2200, 2450, 2750, 3200, 4000]\n",
        "\n",
        "#--ANSWER--\n",
        "\n",
        "'''\n",
        "Covariance: Measures whether two variables move together.\n",
        "\n",
        "If covariance > 0 → as advertising spend increases, sales also increase.\n",
        "\n",
        "If covariance < 0 → as advertising spend increases, sales decrease.\n",
        "\n",
        "Limitation: It only shows direction, not the strength.\n",
        "\n",
        "Correlation: Standardized form of covariance (ranges from –1 to +1).\n",
        "\n",
        "If correlation ≈ +1 → strong positive relationship.\n",
        "\n",
        "If correlation ≈ –1 → strong negative relationship.\n",
        "\n",
        "If correlation ≈ 0 → no relationship.\n",
        "\n",
        "Thus, we use correlation to measure both the direction and strength of the relationship between advertising spend and daily sales.\n",
        "'''\n",
        "\n",
        "import numpy as np\n",
        "\n",
        "# Data\n",
        "advertising_spend = [200, 250, 300, 400, 500]\n",
        "daily_sales = [2200, 2450, 2750, 3200, 4000]\n",
        "\n",
        "# Compute covariance matrix\n",
        "cov_matrix = np.cov(advertising_spend, daily_sales, bias=True)\n",
        "covariance = cov_matrix[0, 1]\n",
        "\n",
        "# Compute correlation coefficient\n",
        "correlation = np.corrcoef(advertising_spend, daily_sales)[0, 1]\n",
        "\n",
        "# Output results\n",
        "print(\"Advertising Spend:\", advertising_spend)\n",
        "print(\"Daily Sales:\", daily_sales)\n",
        "print(\"Covariance:\", covariance)\n",
        "print(\"Correlation Coefficient:\", correlation)\n"
      ],
      "metadata": {
        "colab": {
          "base_uri": "https://localhost:8080/"
        },
        "id": "rB9V-Uer_yu1",
        "outputId": "d82ffe47-df73-4434-b0ac-e02559b1551e"
      },
      "execution_count": 4,
      "outputs": [
        {
          "output_type": "stream",
          "name": "stdout",
          "text": [
            "Advertising Spend: [200, 250, 300, 400, 500]\n",
            "Daily Sales: [2200, 2450, 2750, 3200, 4000]\n",
            "Covariance: 67900.0\n",
            "Correlation Coefficient: 0.9935824101653329\n"
          ]
        }
      ]
    },
    {
      "cell_type": "code",
      "source": [
        "#9 Your team has collected customer satisfaction survey data on a scale of 1-10 and wants to understand its distribution before launching a new product.\n",
        "# ● Explain which summary statistics and visualizations (e.g. mean, standard deviation, histogram) you’d use.\n",
        "# ● Write Python code to create a histogram using Matplotlib for the survey data:\n",
        "# survey_scores = [7, 8, 5, 9, 6, 7, 8, 9, 10, 4, 7, 6, 9, 8, 7]\n",
        "\n",
        "#---ANSWER--\n",
        "'''\n",
        "When analyzing customer satisfaction survey data (scale 1–10), we want to understand central tendency, spread, and shape of the data.\n",
        "\n",
        "Mean (Average) → Tells the central satisfaction level.\n",
        "\n",
        "Median → Robust measure of central tendency, less sensitive to outliers.\n",
        "\n",
        "Mode → Most frequent score, useful in survey data.\n",
        "\n",
        "Standard Deviation (SD) → Shows how spread out the scores are from the mean.\n",
        "\n",
        "Histogram → Visualizes the frequency distribution of satisfaction scores.\n",
        "\n",
        "These help in deciding if most customers are satisfied (higher scores) or dissatisfied (lower scores), and how consistent opinions are.\n",
        "'''\n",
        "\n",
        "import matplotlib.pyplot as plt\n",
        "import numpy as np\n",
        "from statistics import mean, median, mode, stdev\n",
        "\n",
        "# Survey data\n",
        "survey_scores = [7, 8, 5, 9, 6, 7, 8, 9, 10, 4, 7, 6, 9, 8, 7]\n",
        "\n",
        "# Summary statistics\n",
        "print(\"Mean:\", mean(survey_scores))\n",
        "print(\"Median:\", median(survey_scores))\n",
        "print(\"Mode:\", mode(survey_scores))\n",
        "print(\"Standard Deviation:\", stdev(survey_scores))\n",
        "\n",
        "# Histogram\n",
        "plt.hist(survey_scores, bins=6, edgecolor='black', color='skyblue')\n",
        "plt.title(\"Customer Satisfaction Survey (1–10)\")\n",
        "plt.xlabel(\"Satisfaction Score\")\n",
        "plt.ylabel(\"Frequency\")\n",
        "plt.grid(axis='y', linestyle='--', alpha=0.7)\n",
        "plt.show()\n"
      ],
      "metadata": {
        "colab": {
          "base_uri": "https://localhost:8080/",
          "height": 541
        },
        "id": "RZ1BqjGTCACy",
        "outputId": "90673107-8fca-4461-fc13-1933a7c35dab"
      },
      "execution_count": 5,
      "outputs": [
        {
          "output_type": "stream",
          "name": "stdout",
          "text": [
            "Mean: 7.333333333333333\n",
            "Median: 7\n",
            "Mode: 7\n",
            "Standard Deviation: 1.632993161855452\n"
          ]
        },
        {
          "output_type": "display_data",
          "data": {
            "text/plain": [
              "<Figure size 640x480 with 1 Axes>"
            ],
            "image/png": "[encoded data removed]"
          },
          "metadata": {}
        }
      ]
    }
  ]
}